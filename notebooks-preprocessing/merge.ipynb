{
 "cells": [
  {
   "cell_type": "code",
   "execution_count": 1,
   "metadata": {},
   "outputs": [],
   "source": [
    "import pandas as pd\n",
    "import os"
   ]
  },
  {
   "cell_type": "code",
   "execution_count": null,
   "metadata": {},
   "outputs": [],
   "source": [
    "df1 = pd.read_csv('./FE_Output/2019-20 FE EXTC Sem I Nov 2019 Gazette_output.csv')\n",
    "df2 = pd.read_csv('./FE_Output/2019-20 Final Gazette B tech sem II EXTC may 2020 Gazette_output.csv')\n",
    "df3 = pd.read_csv('./SE_Output/20-21 Sem III extc gr 1 Dec 2020_output.csv')\n",
    "df3 = pd.read_csv('./SE_Output/20-21 Sem III extc gr 1 Dec 2020_output.csv')"
   ]
  },
  {
   "cell_type": "code",
   "execution_count": null,
   "metadata": {},
   "outputs": [],
   "source": [
    "merged_df = pd.merge(df1, df2, on=['UID', 'Name'], how='inner')\n",
    "merged_df"
   ]
  },
  {
   "cell_type": "code",
   "execution_count": null,
   "metadata": {},
   "outputs": [],
   "source": [
    "merged_df = pd.merge(merged_df, df3, on=['UID', 'Name'], how='outer')\n",
    "merged_df"
   ]
  },
  {
   "cell_type": "code",
   "execution_count": null,
   "metadata": {},
   "outputs": [],
   "source": [
    "merged_df.to_csv('merged.csv', index=False)"
   ]
  },
  {
   "cell_type": "code",
   "execution_count": 1,
   "metadata": {},
   "outputs": [],
   "source": [
    "import pandas as pd\n",
    "import os\n",
    "\n",
    "# Function to read all CSV files from a directory\n",
    "def read_csv_files_from_directory(directory):\n",
    "    dfs = []\n",
    "    for filename in os.listdir(directory):\n",
    "        if filename.endswith(\".csv\"):\n",
    "            filepath = os.path.join(directory, filename)\n",
    "            df = pd.read_csv(filepath)\n",
    "            dfs.append(df)\n",
    "    return dfs\n",
    "\n",
    "# Directories containing CSV files\n",
    "directory = './Concat'\n",
    "\n",
    "# Read all CSV files from the directories\n",
    "dfs = []\n",
    "dfs.extend(read_csv_files_from_directory(directory))\n",
    "\n",
    "suffix_count = 1\n",
    "# Perform outer join on 'UID' and 'Name'\n",
    "merged_df = None\n",
    "for df in dfs:\n",
    "    if merged_df is None:\n",
    "        merged_df = df\n",
    "        # suffix_count += 1\n",
    "    else:\n",
    "        suffixes = (f'_{suffix_count}', f'_{suffix_count}')\n",
    "        merged_df = pd.merge(merged_df, df, on=['UID', 'Name'], how='outer', suffixes=suffixes)\n",
    "    suffix_count += 1\n",
    "\n",
    "# Remove duplicate rows based on 'UID' and 'Name'\n",
    "merged_df = merged_df.drop_duplicates(subset=['UID', 'Name'])\n",
    "\n",
    "# Print the merged dataframe\n",
    "merged_df.to_csv('merged_df2.csv', index=False)\n"
   ]
  }
 ],
 "metadata": {
  "kernelspec": {
   "display_name": "venv",
   "language": "python",
   "name": "python3"
  },
  "language_info": {
   "codemirror_mode": {
    "name": "ipython",
    "version": 3
   },
   "file_extension": ".py",
   "mimetype": "text/x-python",
   "name": "python",
   "nbconvert_exporter": "python",
   "pygments_lexer": "ipython3",
   "version": "3.10.1"
  }
 },
 "nbformat": 4,
 "nbformat_minor": 2
}
