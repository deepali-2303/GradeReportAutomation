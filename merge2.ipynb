{
 "cells": [
  {
   "cell_type": "code",
   "execution_count": 1,
   "metadata": {},
   "outputs": [],
   "source": [
    "import pandas as pd\n",
    "import os"
   ]
  },
  {
   "cell_type": "code",
   "execution_count": 52,
   "metadata": {},
   "outputs": [
    {
     "name": "stdout",
     "output_type": "stream",
     "text": [
      "2019-20 fe extc sem i nov 2019 gazette_output.csv\n",
      "2019-20 final gazette b tech sem ii extc may 2020 gazette_output.csv\n",
      "20-21 dsy sem iii extc gr 2 dec 2020_output.csv\n",
      "20-21 sem iii extc gr 1 dec 2020_output.csv\n",
      "20-21 dsy extc sem iv gr 2 gazette may 2021_output.csv\n",
      "20-21 extc sem iv gazette may 2021 gr 1 _output.csv\n",
      "sem v extc dec 2021 gazette_output.csv\n",
      "te extc sem vi cat 1 group 1 2021-2022 gazette_output.csv\n",
      "te extc sem vi cat 1 group 10 2021-2022 gazette_output.csv\n",
      "te extc sem vi cat 1 group 11 2021-2022 gazette_output.csv\n",
      "te extc sem vi cat 1 group 12 2021-2022 gazette_output.csv\n",
      "te extc sem vi cat 1 group 13 2021-2022 gazette_output.csv\n",
      "te extc sem vi cat 1 group 14 2021-2022 gazette_output.csv\n",
      "te extc sem vi cat 1 group 15 2021-2022 gazette_output.csv\n",
      "te extc sem vi cat 1 group 16 2021-2022 gazette_output.csv\n",
      "te extc sem vi cat 1 group 17 2021-2022 gazette_output.csv\n",
      "te extc sem vi cat 1 group 2 2021-2022 gazette_output.csv\n",
      "te extc sem vi cat 1 group 3 2021-2022 gazette_output.csv\n",
      "te extc sem vi cat 1 group 4 2021-2022 gazette_output.csv\n",
      "te extc sem vi cat 1 group 5 2021-2022 gazette_output.csv\n",
      "te extc sem vi cat 1 group 6 2021-2022 gazette_output.csv\n",
      "te extc sem vi cat 1 group 7 2021-2022 gazette_output.csv\n",
      "te extc sem vi cat 1 group 8 2021-2022 gazette_output.csv\n",
      "te extc sem vi cat 1 group 9 2021-2022 gazette_output.csv\n",
      "oct 2023 sem vii extc gr 3 dec 2022 gazette_output.csv\n",
      "oct 2023 sem vii extc gr 7 re examination_output.csv\n",
      "sem vii extc gr 1 dec 2022 gazette_output.csv\n",
      "sem vii extc gr 2 dec 2022 gazette_output.csv\n",
      "sem vii extc gr 3 dec 2022 gazette_output.csv\n",
      "sem vii extc gr 4 dec 2022 gazette_output.csv\n",
      "sem vii extc gr 5 dec 2022 gazette_output.csv\n",
      "sem vii extc gr 6 dec 2022 gazette_output.csv\n",
      "sem vii extc gr 7 dec 2022 gazette_output.csv\n"
     ]
    }
   ],
   "source": [
    "# Function to read and concatenate CSV files from a directory based on a keyword in file name\n",
    "def concat_csv_files_with_keyword(directory, keyword):\n",
    "    dfs = []\n",
    "    for filename in os.listdir(directory):\n",
    "        filename = filename.lower()\n",
    "        if filename.endswith(\".csv\") and keyword in filename:\n",
    "            print(filename)\n",
    "            filepath = os.path.join(directory, filename)\n",
    "            df = pd.read_csv(filepath)\n",
    "            # print(df)\n",
    "            dfs.append(df)\n",
    "            # print('dfs : ', dfs)\n",
    "    if dfs:\n",
    "        # print(len(dfs))\n",
    "        return pd.concat(dfs, ignore_index=True)\n",
    "    else:\n",
    "        return None\n",
    "\n",
    "# Directories containing CSV files\n",
    "directories = ['./FE_Output/', './SE_Output/', './TE_Output/', './BE_Output/']\n",
    "\n",
    "# Keywords for filtering files\n",
    "keywords = ['sem i ', 'sem ii ', 'sem iii ', 'sem iv ', 'sem v ', 'sem vi ', 'sem vii ', 'sem viii ']\n",
    "\n",
    "# Concatenate CSV files based on keywords\n",
    "concatenated_dfs = {}\n",
    "i = 0\n",
    "for directory in directories:\n",
    "    for keyword in keywords:\n",
    "        df = concat_csv_files_with_keyword(directory, keyword)\n",
    "        if df is not None:\n",
    "            df.to_csv(f'./Concat/{keyword}.csv', index=False)"
   ]
  }
 ],
 "metadata": {
  "kernelspec": {
   "display_name": "venv",
   "language": "python",
   "name": "python3"
  },
  "language_info": {
   "codemirror_mode": {
    "name": "ipython",
    "version": 3
   },
   "file_extension": ".py",
   "mimetype": "text/x-python",
   "name": "python",
   "nbconvert_exporter": "python",
   "pygments_lexer": "ipython3",
   "version": "3.10.1"
  }
 },
 "nbformat": 4,
 "nbformat_minor": 2
}
