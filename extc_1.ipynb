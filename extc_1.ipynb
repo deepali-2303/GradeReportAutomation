{
 "cells": [
  {
   "cell_type": "code",
   "execution_count": 1,
   "metadata": {},
   "outputs": [],
   "source": [
    "import os\n",
    "import pandas as pd"
   ]
  },
  {
   "cell_type": "code",
   "execution_count": 7,
   "metadata": {},
   "outputs": [
    {
     "name": "stderr",
     "output_type": "stream",
     "text": [
      "C:\\Users\\Admin\\AppData\\Local\\Temp\\ipykernel_19992\\959850305.py:26: FutureWarning: Series.__getitem__ treating keys as positions is deprecated. In a future version, integer keys will always be treated as labels (consistent with DataFrame behavior). To access a value by position, use `ser.iloc[pos]`\n",
      "  if str(row[0]).startswith('20'):\n",
      "C:\\Users\\Admin\\AppData\\Local\\Temp\\ipykernel_19992\\959850305.py:28: FutureWarning: Series.__getitem__ treating keys as positions is deprecated. In a future version, integer keys will always be treated as labels (consistent with DataFrame behavior). To access a value by position, use `ser.iloc[pos]`\n",
      "  uids.append(str(row[0]))\n",
      "C:\\Users\\Admin\\AppData\\Local\\Temp\\ipykernel_19992\\959850305.py:26: FutureWarning: Series.__getitem__ treating keys as positions is deprecated. In a future version, integer keys will always be treated as labels (consistent with DataFrame behavior). To access a value by position, use `ser.iloc[pos]`\n",
      "  if str(row[0]).startswith('20'):\n",
      "C:\\Users\\Admin\\AppData\\Local\\Temp\\ipykernel_19992\\959850305.py:28: FutureWarning: Series.__getitem__ treating keys as positions is deprecated. In a future version, integer keys will always be treated as labels (consistent with DataFrame behavior). To access a value by position, use `ser.iloc[pos]`\n",
      "  uids.append(str(row[0]))\n",
      "C:\\Users\\Admin\\AppData\\Local\\Temp\\ipykernel_19992\\959850305.py:26: FutureWarning: Series.__getitem__ treating keys as positions is deprecated. In a future version, integer keys will always be treated as labels (consistent with DataFrame behavior). To access a value by position, use `ser.iloc[pos]`\n",
      "  if str(row[0]).startswith('20'):\n",
      "C:\\Users\\Admin\\AppData\\Local\\Temp\\ipykernel_19992\\959850305.py:28: FutureWarning: Series.__getitem__ treating keys as positions is deprecated. In a future version, integer keys will always be treated as labels (consistent with DataFrame behavior). To access a value by position, use `ser.iloc[pos]`\n",
      "  uids.append(str(row[0]))\n",
      "C:\\Users\\Admin\\AppData\\Local\\Temp\\ipykernel_19992\\959850305.py:26: FutureWarning: Series.__getitem__ treating keys as positions is deprecated. In a future version, integer keys will always be treated as labels (consistent with DataFrame behavior). To access a value by position, use `ser.iloc[pos]`\n",
      "  if str(row[0]).startswith('20'):\n",
      "C:\\Users\\Admin\\AppData\\Local\\Temp\\ipykernel_19992\\959850305.py:28: FutureWarning: Series.__getitem__ treating keys as positions is deprecated. In a future version, integer keys will always be treated as labels (consistent with DataFrame behavior). To access a value by position, use `ser.iloc[pos]`\n",
      "  uids.append(str(row[0]))\n",
      "C:\\Users\\Admin\\AppData\\Local\\Temp\\ipykernel_19992\\959850305.py:26: FutureWarning: Series.__getitem__ treating keys as positions is deprecated. In a future version, integer keys will always be treated as labels (consistent with DataFrame behavior). To access a value by position, use `ser.iloc[pos]`\n",
      "  if str(row[0]).startswith('20'):\n",
      "C:\\Users\\Admin\\AppData\\Local\\Temp\\ipykernel_19992\\959850305.py:28: FutureWarning: Series.__getitem__ treating keys as positions is deprecated. In a future version, integer keys will always be treated as labels (consistent with DataFrame behavior). To access a value by position, use `ser.iloc[pos]`\n",
      "  uids.append(str(row[0]))\n",
      "C:\\Users\\Admin\\AppData\\Local\\Temp\\ipykernel_19992\\959850305.py:26: FutureWarning: Series.__getitem__ treating keys as positions is deprecated. In a future version, integer keys will always be treated as labels (consistent with DataFrame behavior). To access a value by position, use `ser.iloc[pos]`\n",
      "  if str(row[0]).startswith('20'):\n",
      "C:\\Users\\Admin\\AppData\\Local\\Temp\\ipykernel_19992\\959850305.py:28: FutureWarning: Series.__getitem__ treating keys as positions is deprecated. In a future version, integer keys will always be treated as labels (consistent with DataFrame behavior). To access a value by position, use `ser.iloc[pos]`\n",
      "  uids.append(str(row[0]))\n",
      "C:\\Users\\Admin\\AppData\\Local\\Temp\\ipykernel_19992\\959850305.py:26: FutureWarning: Series.__getitem__ treating keys as positions is deprecated. In a future version, integer keys will always be treated as labels (consistent with DataFrame behavior). To access a value by position, use `ser.iloc[pos]`\n",
      "  if str(row[0]).startswith('20'):\n",
      "C:\\Users\\Admin\\AppData\\Local\\Temp\\ipykernel_19992\\959850305.py:28: FutureWarning: Series.__getitem__ treating keys as positions is deprecated. In a future version, integer keys will always be treated as labels (consistent with DataFrame behavior). To access a value by position, use `ser.iloc[pos]`\n",
      "  uids.append(str(row[0]))\n",
      "C:\\Users\\Admin\\AppData\\Local\\Temp\\ipykernel_19992\\959850305.py:26: FutureWarning: Series.__getitem__ treating keys as positions is deprecated. In a future version, integer keys will always be treated as labels (consistent with DataFrame behavior). To access a value by position, use `ser.iloc[pos]`\n",
      "  if str(row[0]).startswith('20'):\n",
      "C:\\Users\\Admin\\AppData\\Local\\Temp\\ipykernel_19992\\959850305.py:28: FutureWarning: Series.__getitem__ treating keys as positions is deprecated. In a future version, integer keys will always be treated as labels (consistent with DataFrame behavior). To access a value by position, use `ser.iloc[pos]`\n",
      "  uids.append(str(row[0]))\n",
      "C:\\Users\\Admin\\AppData\\Local\\Temp\\ipykernel_19992\\959850305.py:26: FutureWarning: Series.__getitem__ treating keys as positions is deprecated. In a future version, integer keys will always be treated as labels (consistent with DataFrame behavior). To access a value by position, use `ser.iloc[pos]`\n",
      "  if str(row[0]).startswith('20'):\n",
      "C:\\Users\\Admin\\AppData\\Local\\Temp\\ipykernel_19992\\959850305.py:28: FutureWarning: Series.__getitem__ treating keys as positions is deprecated. In a future version, integer keys will always be treated as labels (consistent with DataFrame behavior). To access a value by position, use `ser.iloc[pos]`\n",
      "  uids.append(str(row[0]))\n"
     ]
    }
   ],
   "source": [
    "# Define input and output folder paths\n",
    "input_folder = 'BE'\n",
    "output_folder = 'BE_Output'\n",
    "\n",
    "# Create the output folder if it doesn't exist\n",
    "os.makedirs(output_folder, exist_ok=True)\n",
    "\n",
    "# Iterate over each file in the input folder\n",
    "for filename in os.listdir(input_folder):\n",
    "    if filename.endswith('.xls'):  # Process only Excel files\n",
    "        # Read the Excel file\n",
    "        file_path = os.path.join(input_folder, filename)\n",
    "        df = pd.read_excel(file_path)\n",
    "        df.columns = df.iloc[2]\n",
    "        df = df.drop(2)\n",
    "        \n",
    "        # Initialize lists to store data\n",
    "        uids = []\n",
    "        names = []\n",
    "        sgpa = []\n",
    "        results = []\n",
    "\n",
    "        # Iterate over the rows\n",
    "        for index, row in df.iterrows():\n",
    "            # Check if the string starts with \"2019\"\n",
    "            if str(row[0]).startswith('20'):\n",
    "                # Append UID and Name\n",
    "                uids.append(str(row[0]))\n",
    "                name_val = str(df.iloc[index, 0]).strip('/')  # Remove leading '/'\n",
    "                names.append(name_val)\n",
    "                # Append SGPA and results\n",
    "                sgpa_val = str(row['SGPI (GPA)'])  # Assuming 'SGPA' is the column name for SGPA\n",
    "                try:\n",
    "                    sgpa.append(float(sgpa_val))\n",
    "                except ValueError:\n",
    "                    sgpa.append(None)\n",
    "                results_val = str(row['RESULT'])  # Assuming 'Results' is the column name for results\n",
    "                results.append(results_val if results_val in ['P', 'F'] else '')\n",
    "\n",
    "        # Create a DataFrame from the lists\n",
    "        df_new = pd.DataFrame({'UID': uids, 'Name': names, 'SGPA': sgpa, 'Results': results})\n",
    "\n",
    "        # Write the new DataFrame to a CSV file in the output folder with the same name\n",
    "        output_file_path = os.path.join(output_folder, filename.replace('.xls', '_output.csv'))\n",
    "        df_new.to_csv(output_file_path, index=False)\n"
   ]
  }
 ],
 "metadata": {
  "kernelspec": {
   "display_name": "venv",
   "language": "python",
   "name": "python3"
  },
  "language_info": {
   "codemirror_mode": {
    "name": "ipython",
    "version": 3
   },
   "file_extension": ".py",
   "mimetype": "text/x-python",
   "name": "python",
   "nbconvert_exporter": "python",
   "pygments_lexer": "ipython3",
   "version": "3.10.1"
  }
 },
 "nbformat": 4,
 "nbformat_minor": 2
}
